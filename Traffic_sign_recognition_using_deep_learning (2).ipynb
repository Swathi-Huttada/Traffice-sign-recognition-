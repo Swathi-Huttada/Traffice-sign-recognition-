{
  "nbformat": 4,
  "nbformat_minor": 0,
  "metadata": {
    "colab": {
      "name": "Traffic_sign_recognition_using_deep_learning.ipynb",
      "provenance": [],
      "collapsed_sections": []
    },
    "kernelspec": {
      "display_name": "Python 3",
      "name": "python3"
    },
    "language_info": {
      "name": "python"
    }
  },
  "cells": [
    {
      "cell_type": "code",
      "metadata": {
        "colab": {
          "base_uri": "https://localhost:8080/"
        },
        "id": "TZnDf15OtTs7",
        "outputId": "aed073fa-e7e9-4db4-a3ea-6ecbde578b21"
      },
      "source": [
        "pip install tensorflow==1.15"
      ],
      "execution_count": null,
      "outputs": [
        {
          "output_type": "stream",
          "text": [
            "Collecting tensorflow==1.15\n",
            "\u001b[?25l  Downloading https://files.pythonhosted.org/packages/92/2b/e3af15221da9ff323521565fa3324b0d7c7c5b1d7a8ca66984c8d59cb0ce/tensorflow-1.15.0-cp37-cp37m-manylinux2010_x86_64.whl (412.3MB)\n",
            "\u001b[K     |████████████████████████████████| 412.3MB 33kB/s \n",
            "\u001b[?25hRequirement already satisfied: termcolor>=1.1.0 in /usr/local/lib/python3.7/dist-packages (from tensorflow==1.15) (1.1.0)\n",
            "Requirement already satisfied: protobuf>=3.6.1 in /usr/local/lib/python3.7/dist-packages (from tensorflow==1.15) (3.12.4)\n",
            "Collecting tensorboard<1.16.0,>=1.15.0\n",
            "\u001b[?25l  Downloading https://files.pythonhosted.org/packages/1e/e9/d3d747a97f7188f48aa5eda486907f3b345cd409f0a0850468ba867db246/tensorboard-1.15.0-py3-none-any.whl (3.8MB)\n",
            "\u001b[K     |████████████████████████████████| 3.8MB 33.4MB/s \n",
            "\u001b[?25hRequirement already satisfied: keras-preprocessing>=1.0.5 in /usr/local/lib/python3.7/dist-packages (from tensorflow==1.15) (1.1.2)\n",
            "Requirement already satisfied: grpcio>=1.8.6 in /usr/local/lib/python3.7/dist-packages (from tensorflow==1.15) (1.34.1)\n",
            "Requirement already satisfied: absl-py>=0.7.0 in /usr/local/lib/python3.7/dist-packages (from tensorflow==1.15) (0.12.0)\n",
            "Collecting tensorflow-estimator==1.15.1\n",
            "\u001b[?25l  Downloading https://files.pythonhosted.org/packages/de/62/2ee9cd74c9fa2fa450877847ba560b260f5d0fb70ee0595203082dafcc9d/tensorflow_estimator-1.15.1-py2.py3-none-any.whl (503kB)\n",
            "\u001b[K     |████████████████████████████████| 512kB 41.4MB/s \n",
            "\u001b[?25hRequirement already satisfied: opt-einsum>=2.3.2 in /usr/local/lib/python3.7/dist-packages (from tensorflow==1.15) (3.3.0)\n",
            "Collecting keras-applications>=1.0.8\n",
            "\u001b[?25l  Downloading https://files.pythonhosted.org/packages/71/e3/19762fdfc62877ae9102edf6342d71b28fbfd9dea3d2f96a882ce099b03f/Keras_Applications-1.0.8-py3-none-any.whl (50kB)\n",
            "\u001b[K     |████████████████████████████████| 51kB 5.2MB/s \n",
            "\u001b[?25hRequirement already satisfied: six>=1.10.0 in /usr/local/lib/python3.7/dist-packages (from tensorflow==1.15) (1.15.0)\n",
            "Requirement already satisfied: wrapt>=1.11.1 in /usr/local/lib/python3.7/dist-packages (from tensorflow==1.15) (1.12.1)\n",
            "Requirement already satisfied: astor>=0.6.0 in /usr/local/lib/python3.7/dist-packages (from tensorflow==1.15) (0.8.1)\n",
            "Collecting gast==0.2.2\n",
            "  Downloading https://files.pythonhosted.org/packages/4e/35/11749bf99b2d4e3cceb4d55ca22590b0d7c2c62b9de38ac4a4a7f4687421/gast-0.2.2.tar.gz\n",
            "Requirement already satisfied: google-pasta>=0.1.6 in /usr/local/lib/python3.7/dist-packages (from tensorflow==1.15) (0.2.0)\n",
            "Requirement already satisfied: wheel>=0.26 in /usr/local/lib/python3.7/dist-packages (from tensorflow==1.15) (0.36.2)\n",
            "Requirement already satisfied: numpy<2.0,>=1.16.0 in /usr/local/lib/python3.7/dist-packages (from tensorflow==1.15) (1.19.5)\n",
            "Requirement already satisfied: setuptools in /usr/local/lib/python3.7/dist-packages (from protobuf>=3.6.1->tensorflow==1.15) (56.1.0)\n",
            "Requirement already satisfied: werkzeug>=0.11.15 in /usr/local/lib/python3.7/dist-packages (from tensorboard<1.16.0,>=1.15.0->tensorflow==1.15) (1.0.1)\n",
            "Requirement already satisfied: markdown>=2.6.8 in /usr/local/lib/python3.7/dist-packages (from tensorboard<1.16.0,>=1.15.0->tensorflow==1.15) (3.3.4)\n",
            "Requirement already satisfied: h5py in /usr/local/lib/python3.7/dist-packages (from keras-applications>=1.0.8->tensorflow==1.15) (3.1.0)\n",
            "Requirement already satisfied: importlib-metadata; python_version < \"3.8\" in /usr/local/lib/python3.7/dist-packages (from markdown>=2.6.8->tensorboard<1.16.0,>=1.15.0->tensorflow==1.15) (4.0.1)\n",
            "Requirement already satisfied: cached-property; python_version < \"3.8\" in /usr/local/lib/python3.7/dist-packages (from h5py->keras-applications>=1.0.8->tensorflow==1.15) (1.5.2)\n",
            "Requirement already satisfied: typing-extensions>=3.6.4; python_version < \"3.8\" in /usr/local/lib/python3.7/dist-packages (from importlib-metadata; python_version < \"3.8\"->markdown>=2.6.8->tensorboard<1.16.0,>=1.15.0->tensorflow==1.15) (3.7.4.3)\n",
            "Requirement already satisfied: zipp>=0.5 in /usr/local/lib/python3.7/dist-packages (from importlib-metadata; python_version < \"3.8\"->markdown>=2.6.8->tensorboard<1.16.0,>=1.15.0->tensorflow==1.15) (3.4.1)\n",
            "Building wheels for collected packages: gast\n",
            "  Building wheel for gast (setup.py) ... \u001b[?25l\u001b[?25hdone\n",
            "  Created wheel for gast: filename=gast-0.2.2-cp37-none-any.whl size=7540 sha256=14f8114491285e823f358fda6e7be7672c75e4ff6d221c0ee3b43be512d80f3a\n",
            "  Stored in directory: /root/.cache/pip/wheels/5c/2e/7e/a1d4d4fcebe6c381f378ce7743a3ced3699feb89bcfbdadadd\n",
            "Successfully built gast\n",
            "\u001b[31mERROR: tensorflow-probability 0.12.1 has requirement gast>=0.3.2, but you'll have gast 0.2.2 which is incompatible.\u001b[0m\n",
            "\u001b[31mERROR: kapre 0.3.5 has requirement tensorflow>=2.0.0, but you'll have tensorflow 1.15.0 which is incompatible.\u001b[0m\n",
            "Installing collected packages: tensorboard, tensorflow-estimator, keras-applications, gast, tensorflow\n",
            "  Found existing installation: tensorboard 2.5.0\n",
            "    Uninstalling tensorboard-2.5.0:\n",
            "      Successfully uninstalled tensorboard-2.5.0\n",
            "  Found existing installation: tensorflow-estimator 2.5.0\n",
            "    Uninstalling tensorflow-estimator-2.5.0:\n",
            "      Successfully uninstalled tensorflow-estimator-2.5.0\n",
            "  Found existing installation: gast 0.4.0\n",
            "    Uninstalling gast-0.4.0:\n",
            "      Successfully uninstalled gast-0.4.0\n",
            "  Found existing installation: tensorflow 2.5.0\n",
            "    Uninstalling tensorflow-2.5.0:\n",
            "      Successfully uninstalled tensorflow-2.5.0\n",
            "Successfully installed gast-0.2.2 keras-applications-1.0.8 tensorboard-1.15.0 tensorflow-1.15.0 tensorflow-estimator-1.15.1\n"
          ],
          "name": "stdout"
        }
      ]
    },
    {
      "cell_type": "markdown",
      "metadata": {
        "id": "fynZ2Tcqs70s"
      },
      "source": [
        "# Importing the libraries"
      ]
    },
    {
      "cell_type": "code",
      "metadata": {
        "id": "O0In_x6omx3i"
      },
      "source": [
        "import numpy as np\n",
        "import random\n",
        "import pickle\n",
        "import matplotlib.pyplot as plt\n",
        "import cv2\n",
        "from sklearn.utils import shuffle\n",
        "import tensorflow as tf\n",
        "from tensorflow.contrib.layers import flatten\n",
        "import time\n",
        "import csv\n",
        "\n",
        "# Visualizations will be shown in the notebook.\n",
        "%matplotlib inline"
      ],
      "execution_count": null,
      "outputs": []
    },
    {
      "cell_type": "code",
      "metadata": {
        "colab": {
          "base_uri": "https://localhost:8080/"
        },
        "id": "ZRLx8Yd8r9JO",
        "outputId": "1368f71e-d1cf-47ef-b1c1-6e7753e6c27d"
      },
      "source": [
        "from google.colab import drive\n",
        "drive.mount('/content/drive')"
      ],
      "execution_count": null,
      "outputs": [
        {
          "output_type": "stream",
          "text": [
            "Mounted at /content/drive\n"
          ],
          "name": "stdout"
        }
      ]
    },
    {
      "cell_type": "markdown",
      "metadata": {
        "id": "7a4PZZXOtA96"
      },
      "source": [
        "# Loading the Dataset"
      ]
    },
    {
      "cell_type": "code",
      "metadata": {
        "colab": {
          "base_uri": "https://localhost:8080/"
        },
        "id": "5i29fqC54sNh",
        "outputId": "aeb76828-d619-4b59-8827-3585ac4d96b3"
      },
      "source": [
        "training_file = '/content/drive/MyDrive/Colab Notebooks/MMA/traffic-signs-data/train.p'\n",
        "testing_file = '/content/drive/MyDrive/Colab Notebooks/MMA/traffic-signs-data/test.p'\n",
        "\n",
        "with open(training_file, mode='rb') as f:\n",
        "    train = pickle.load(f)\n",
        "with open(testing_file, mode='rb') as f:\n",
        "    test = pickle.load(f)\n",
        "\n",
        "assert(len(train['features']) == len(train['labels']))\n",
        "assert(len(test['features']) == len(test['labels']))\n",
        "\n",
        "print(\"'train' and 'test' are dictionaries with keys:\", train.keys())\n",
        "print(\"'features' in 'train' is a\", type(train['features']), \"of size\", train['features'].shape)\n",
        "print(\"'labels' in 'train' is a\", type(train['labels']), \"of size\", train['labels'].shape)\n",
        "print(\"'sizes' in 'train' is a\", type(train['sizes']), \"of size\", train['sizes'].shape)\n",
        "print(\"'coords' in 'train' is a\", type(train['coords']), \"of size\", train['coords'].shape)"
      ],
      "execution_count": null,
      "outputs": [
        {
          "output_type": "stream",
          "text": [
            "'train' and 'test' are dictionaries with keys: dict_keys(['sizes', 'coords', 'features', 'labels'])\n",
            "'features' in 'train' is a <class 'numpy.ndarray'> of size (39209, 32, 32, 3)\n",
            "'labels' in 'train' is a <class 'numpy.ndarray'> of size (39209,)\n",
            "'sizes' in 'train' is a <class 'numpy.ndarray'> of size (39209, 2)\n",
            "'coords' in 'train' is a <class 'numpy.ndarray'> of size (39209, 4)\n"
          ],
          "name": "stdout"
        }
      ]
    },
    {
      "cell_type": "code",
      "metadata": {
        "colab": {
          "base_uri": "https://localhost:8080/"
        },
        "id": "VZkoTMMm5Rok",
        "outputId": "350e478f-4364-4d74-8f76-f275d943bef6"
      },
      "source": [
        "# Number of training, validation, and test examples, image resolution and color channels and number of classification classes\n",
        "n_train = len(train['features'])\n",
        "n_test = len(test['features'])\n",
        "image_shape = train['features'][0,:,:,:].shape\n",
        "\n",
        "train_unique, train_counts = np.unique(train['labels'], return_counts='True')\n",
        "test_unique, test_counts = np.unique(test['labels'], return_counts='True')\n",
        "n_classes_train = len(train_unique)\n",
        "n_classes_test = len(test_unique)\n",
        "\n",
        "print(\"Number of training examples =\", n_train)\n",
        "print(\"Number of test examples =\", n_test)\n",
        "print(\"Image data shape =\", image_shape)\n",
        "print(\"Number of classes in the training set =\", n_classes_train)\n",
        "print(\"Number of classes in the test set =\", n_classes_test)"
      ],
      "execution_count": null,
      "outputs": [
        {
          "output_type": "stream",
          "text": [
            "Number of training examples = 39209\n",
            "Number of test examples = 12630\n",
            "Image data shape = (32, 32, 3)\n",
            "Number of classes in the training set = 43\n",
            "Number of classes in the test set = 43\n"
          ],
          "name": "stdout"
        }
      ]
    },
    {
      "cell_type": "code",
      "metadata": {
        "colab": {
          "base_uri": "https://localhost:8080/",
          "height": 451
        },
        "id": "H0YKjORS5Wkf",
        "outputId": "2dd6b86a-cf6b-456c-a341-1651bd473615"
      },
      "source": [
        "grid_m = 3\n",
        "grid_n = 4\n",
        "rand_grid = np.random.randint(n_train, size=[grid_m,grid_n])\n",
        "\n",
        "f0, cell0 = plt.subplots(grid_m, grid_n, figsize=(8,8))\n",
        "for i in range(grid_m):\n",
        "    for j in range(grid_n):\n",
        "        cell0[i, j].imshow(train['features'][rand_grid[i,j]])\n",
        "        cell0[i, j].axis('off')\n",
        "        cell0[i, j].set_title('Image {}'.format(rand_grid[i,j]))"
      ],
      "execution_count": null,
      "outputs": [
        {
          "output_type": "display_data",
          "data": {
            "image/png": "[encoded data removed]",
            "text/plain": [
              "<Figure size 576x576 with 12 Axes>"
            ]
          },
          "metadata": {
            "tags": [],
            "needs_background": "light"
          }
        }
      ]
    },
    {
      "cell_type": "code",
      "metadata": {
        "colab": {
          "base_uri": "https://localhost:8080/",
          "height": 1000
        },
        "id": "vvPz7-w63aqC",
        "outputId": "9e36e791-1393-43cc-eb9f-ac5b8e25ddda"
      },
      "source": [
        "import pandas as pd\n",
        "df = pd.read_csv('/content/drive/MyDrive/Colab Notebooks/MMA/traffic-signs-data/signnames.csv')\n",
        "df"
      ],
      "execution_count": null,
      "outputs": [
        {
          "output_type": "execute_result",
          "data": {
            "text/html": [
              "<div>\n",
              "<style scoped>\n",
              "    .dataframe tbody tr th:only-of-type {\n",
              "        vertical-align: middle;\n",
              "    }\n",
              "\n",
              "    .dataframe tbody tr th {\n",
              "        vertical-align: top;\n",
              "    }\n",
              "\n",
              "    .dataframe thead th {\n",
              "        text-align: right;\n",
              "    }\n",
              "</style>\n",
              "<table border=\"1\" class=\"dataframe\">\n",
              "  <thead>\n",
              "    <tr style=\"text-align: right;\">\n",
              "      <th></th>\n",
              "      <th>ClassId</th>\n",
              "      <th>SignName</th>\n",
              "    </tr>\n",
              "  </thead>\n",
              "  <tbody>\n",
              "    <tr>\n",
              "      <th>0</th>\n",
              "      <td>0</td>\n",
              "      <td>Speed limit (20km/h)</td>\n",
              "    </tr>\n",
              "    <tr>\n",
              "      <th>1</th>\n",
              "      <td>1</td>\n",
              "      <td>Speed limit (30km/h)</td>\n",
              "    </tr>\n",
              "    <tr>\n",
              "      <th>2</th>\n",
              "      <td>2</td>\n",
              "      <td>Speed limit (50km/h)</td>\n",
              "    </tr>\n",
              "    <tr>\n",
              "      <th>3</th>\n",
              "      <td>3</td>\n",
              "      <td>Speed limit (60km/h)</td>\n",
              "    </tr>\n",
              "    <tr>\n",
              "      <th>4</th>\n",
              "      <td>4</td>\n",
              "      <td>Speed limit (70km/h)</td>\n",
              "    </tr>\n",
              "    <tr>\n",
              "      <th>5</th>\n",
              "      <td>5</td>\n",
              "      <td>Speed limit (80km/h)</td>\n",
              "    </tr>\n",
              "    <tr>\n",
              "      <th>6</th>\n",
              "      <td>6</td>\n",
              "      <td>End of speed limit (80km/h)</td>\n",
              "    </tr>\n",
              "    <tr>\n",
              "      <th>7</th>\n",
              "      <td>7</td>\n",
              "      <td>Speed limit (100km/h)</td>\n",
              "    </tr>\n",
              "    <tr>\n",
              "      <th>8</th>\n",
              "      <td>8</td>\n",
              "      <td>Speed limit (120km/h)</td>\n",
              "    </tr>\n",
              "    <tr>\n",
              "      <th>9</th>\n",
              "      <td>9</td>\n",
              "      <td>No passing</td>\n",
              "    </tr>\n",
              "    <tr>\n",
              "      <th>10</th>\n",
              "      <td>10</td>\n",
              "      <td>No passing for vehicles over 3.5 metric tons</td>\n",
              "    </tr>\n",
              "    <tr>\n",
              "      <th>11</th>\n",
              "      <td>11</td>\n",
              "      <td>Right-of-way at the next intersection</td>\n",
              "    </tr>\n",
              "    <tr>\n",
              "      <th>12</th>\n",
              "      <td>12</td>\n",
              "      <td>Priority road</td>\n",
              "    </tr>\n",
              "    <tr>\n",
              "      <th>13</th>\n",
              "      <td>13</td>\n",
              "      <td>Yield</td>\n",
              "    </tr>\n",
              "    <tr>\n",
              "      <th>14</th>\n",
              "      <td>14</td>\n",
              "      <td>Stop</td>\n",
              "    </tr>\n",
              "    <tr>\n",
              "      <th>15</th>\n",
              "      <td>15</td>\n",
              "      <td>No vehicles</td>\n",
              "    </tr>\n",
              "    <tr>\n",
              "      <th>16</th>\n",
              "      <td>16</td>\n",
              "      <td>Vehicles over 3.5 metric tons prohibited</td>\n",
              "    </tr>\n",
              "    <tr>\n",
              "      <th>17</th>\n",
              "      <td>17</td>\n",
              "      <td>No entry</td>\n",
              "    </tr>\n",
              "    <tr>\n",
              "      <th>18</th>\n",
              "      <td>18</td>\n",
              "      <td>General caution</td>\n",
              "    </tr>\n",
              "    <tr>\n",
              "      <th>19</th>\n",
              "      <td>19</td>\n",
              "      <td>Dangerous curve to the left</td>\n",
              "    </tr>\n",
              "    <tr>\n",
              "      <th>20</th>\n",
              "      <td>20</td>\n",
              "      <td>Dangerous curve to the right</td>\n",
              "    </tr>\n",
              "    <tr>\n",
              "      <th>21</th>\n",
              "      <td>21</td>\n",
              "      <td>Double curve</td>\n",
              "    </tr>\n",
              "    <tr>\n",
              "      <th>22</th>\n",
              "      <td>22</td>\n",
              "      <td>Bumpy road</td>\n",
              "    </tr>\n",
              "    <tr>\n",
              "      <th>23</th>\n",
              "      <td>23</td>\n",
              "      <td>Slippery road</td>\n",
              "    </tr>\n",
              "    <tr>\n",
              "      <th>24</th>\n",
              "      <td>24</td>\n",
              "      <td>Road narrows on the right</td>\n",
              "    </tr>\n",
              "    <tr>\n",
              "      <th>25</th>\n",
              "      <td>25</td>\n",
              "      <td>Road work</td>\n",
              "    </tr>\n",
              "    <tr>\n",
              "      <th>26</th>\n",
              "      <td>26</td>\n",
              "      <td>Traffic signals</td>\n",
              "    </tr>\n",
              "    <tr>\n",
              "      <th>27</th>\n",
              "      <td>27</td>\n",
              "      <td>Pedestrians</td>\n",
              "    </tr>\n",
              "    <tr>\n",
              "      <th>28</th>\n",
              "      <td>28</td>\n",
              "      <td>Children crossing</td>\n",
              "    </tr>\n",
              "    <tr>\n",
              "      <th>29</th>\n",
              "      <td>29</td>\n",
              "      <td>Bicycles crossing</td>\n",
              "    </tr>\n",
              "    <tr>\n",
              "      <th>30</th>\n",
              "      <td>30</td>\n",
              "      <td>Beware of ice/snow</td>\n",
              "    </tr>\n",
              "    <tr>\n",
              "      <th>31</th>\n",
              "      <td>31</td>\n",
              "      <td>Wild animals crossing</td>\n",
              "    </tr>\n",
              "    <tr>\n",
              "      <th>32</th>\n",
              "      <td>32</td>\n",
              "      <td>End of all speed and passing limits</td>\n",
              "    </tr>\n",
              "    <tr>\n",
              "      <th>33</th>\n",
              "      <td>33</td>\n",
              "      <td>Turn right ahead</td>\n",
              "    </tr>\n",
              "    <tr>\n",
              "      <th>34</th>\n",
              "      <td>34</td>\n",
              "      <td>Turn left ahead</td>\n",
              "    </tr>\n",
              "    <tr>\n",
              "      <th>35</th>\n",
              "      <td>35</td>\n",
              "      <td>Ahead only</td>\n",
              "    </tr>\n",
              "    <tr>\n",
              "      <th>36</th>\n",
              "      <td>36</td>\n",
              "      <td>Go straight or right</td>\n",
              "    </tr>\n",
              "    <tr>\n",
              "      <th>37</th>\n",
              "      <td>37</td>\n",
              "      <td>Go straight or left</td>\n",
              "    </tr>\n",
              "    <tr>\n",
              "      <th>38</th>\n",
              "      <td>38</td>\n",
              "      <td>Keep right</td>\n",
              "    </tr>\n",
              "    <tr>\n",
              "      <th>39</th>\n",
              "      <td>39</td>\n",
              "      <td>Keep left</td>\n",
              "    </tr>\n",
              "    <tr>\n",
              "      <th>40</th>\n",
              "      <td>40</td>\n",
              "      <td>Roundabout mandatory</td>\n",
              "    </tr>\n",
              "    <tr>\n",
              "      <th>41</th>\n",
              "      <td>41</td>\n",
              "      <td>End of no passing</td>\n",
              "    </tr>\n",
              "    <tr>\n",
              "      <th>42</th>\n",
              "      <td>42</td>\n",
              "      <td>End of no passing by vehicles over 3.5 metric...</td>\n",
              "    </tr>\n",
              "  </tbody>\n",
              "</table>\n",
              "</div>"
            ],
            "text/plain": [
              "    ClassId                                           SignName\n",
              "0         0                               Speed limit (20km/h)\n",
              "1         1                               Speed limit (30km/h)\n",
              "2         2                               Speed limit (50km/h)\n",
              "3         3                               Speed limit (60km/h)\n",
              "4         4                               Speed limit (70km/h)\n",
              "5         5                               Speed limit (80km/h)\n",
              "6         6                        End of speed limit (80km/h)\n",
              "7         7                              Speed limit (100km/h)\n",
              "8         8                              Speed limit (120km/h)\n",
              "9         9                                         No passing\n",
              "10       10       No passing for vehicles over 3.5 metric tons\n",
              "11       11              Right-of-way at the next intersection\n",
              "12       12                                      Priority road\n",
              "13       13                                              Yield\n",
              "14       14                                               Stop\n",
              "15       15                                        No vehicles\n",
              "16       16           Vehicles over 3.5 metric tons prohibited\n",
              "17       17                                           No entry\n",
              "18       18                                    General caution\n",
              "19       19                        Dangerous curve to the left\n",
              "20       20                       Dangerous curve to the right\n",
              "21       21                                       Double curve\n",
              "22       22                                         Bumpy road\n",
              "23       23                                      Slippery road\n",
              "24       24                          Road narrows on the right\n",
              "25       25                                          Road work\n",
              "26       26                                    Traffic signals\n",
              "27       27                                        Pedestrians\n",
              "28       28                                  Children crossing\n",
              "29       29                                  Bicycles crossing\n",
              "30       30                                 Beware of ice/snow\n",
              "31       31                              Wild animals crossing\n",
              "32       32                End of all speed and passing limits\n",
              "33       33                                   Turn right ahead\n",
              "34       34                                    Turn left ahead\n",
              "35       35                                         Ahead only\n",
              "36       36                               Go straight or right\n",
              "37       37                                Go straight or left\n",
              "38       38                                         Keep right\n",
              "39       39                                          Keep left\n",
              "40       40                               Roundabout mandatory\n",
              "41       41                                  End of no passing\n",
              "42       42   End of no passing by vehicles over 3.5 metric..."
            ]
          },
          "metadata": {
            "tags": []
          },
          "execution_count": 58
        }
      ]
    },
    {
      "cell_type": "code",
      "metadata": {
        "colab": {
          "base_uri": "https://localhost:8080/"
        },
        "id": "GSRA1hLR5dB4",
        "outputId": "3c927c99-5439-4f4e-c245-181286d223e8"
      },
      "source": [
        "train_pcent = np.around(np.array([i/n_train for i in train_counts])*100, 1)\n",
        "test_pcent = np.around(np.array([np.around(i/n_test, 3) for i in test_counts])*100, 1)\n",
        "\n",
        "with open('/content/drive/MyDrive/Colab Notebooks/MMA/traffic-signs-data/signnames.csv', newline='') as csvfile:\n",
        "    csvread = csv.reader(csvfile, delimiter=',')\n",
        "    signtable = {i[0]:i[1] for i in csvread}\n",
        "signnames = [signtable[str(train_unique[i])] for i in train_unique]\n",
        "\n",
        "n_tracks_train = (train_counts / 30).astype(int)\n",
        "n_tracks_test = (test_counts / 30).astype(int)\n",
        "\n",
        "class_table = np.array([train_unique, signnames, n_tracks_train, train_counts, train_pcent, n_tracks_test, test_counts, test_pcent]).T\n",
        "\n",
        "np.set_printoptions(suppress=True, precision=1) # suppress scientific data format for printing because it's not very readable\n",
        "print(['Class Id', 'Desc.', '# Tracks Train', '# Train', '% Train', '# Tracks Test', '# Test', '% Test'])\n",
        "print(class_table)\n"
      ],
      "execution_count": null,
      "outputs": [
        {
          "output_type": "stream",
          "text": [
            "['Class Id', 'Desc.', '# Tracks Train', '# Train', '% Train', '# Tracks Test', '# Test', '% Test']\n",
            "[['0' ' Speed limit (20km/h)' '7' '210' '0.6' '2' '60' '0.5']\n",
            " ['1' ' Speed limit (30km/h)' '74' '2220' '6.1' '24' '720' '5.7']\n",
            " ['2' ' Speed limit (50km/h)' '75' '2250' '6.1' '25' '750' '5.9']\n",
            " ['3' ' Speed limit (60km/h)' '47' '1410' '3.8' '15' '450' '3.6']\n",
            " ['4' ' Speed limit (70km/h)' '66' '1980' '5.4' '22' '660' '5.2']\n",
            " ['5' ' Speed limit (80km/h)' '62' '1860' '5.1' '21' '630' '5.0']\n",
            " ['6' ' End of speed limit (80km/h)' '14' '420' '1.1' '5' '150' '1.2']\n",
            " ['7' ' Speed limit (100km/h)' '48' '1440' '3.9' '15' '450' '3.6']\n",
            " ['8' ' Speed limit (120km/h)' '47' '1410' '3.8' '15' '450' '3.6']\n",
            " ['9' ' No passing' '49' '1470' '4.0' '16' '480' '3.8']\n",
            " ['10' ' No passing for vehicles over 3.5 metric tons' '67' '2010' '5.5'\n",
            "  '22' '660' '5.2']\n",
            " ['11' ' Right-of-way at the next intersection' '44' '1320' '3.6' '14'\n",
            "  '420' '3.3']\n",
            " ['12' ' Priority road' '70' '2100' '5.7' '23' '690' '5.5']\n",
            " ['13' ' Yield' '72' '2160' '5.9' '24' '720' '5.7']\n",
            " ['14' ' Stop' '26' '780' '2.1' '9' '270' '2.1']\n",
            " ['15' ' No vehicles' '21' '630' '1.7' '7' '210' '1.7']\n",
            " ['16' ' Vehicles over 3.5 metric tons prohibited' '14' '420' '1.1' '5'\n",
            "  '150' '1.2']\n",
            " ['17' ' No entry' '37' '1110' '3.0' '12' '360' '2.9']\n",
            " ['18' ' General caution' '40' '1200' '3.3' '13' '390' '3.1']\n",
            " ['19' ' Dangerous curve to the left' '7' '210' '0.6' '2' '60' '0.5']\n",
            " ['20' ' Dangerous curve to the right' '12' '360' '1.0' '3' '90' '0.7']\n",
            " ['21' ' Double curve' '11' '330' '0.9' '3' '90' '0.7']\n",
            " ['22' ' Bumpy road' '13' '390' '1.1' '4' '120' '1.0']\n",
            " ['23' ' Slippery road' '17' '510' '1.4' '5' '150' '1.2']\n",
            " ['24' ' Road narrows on the right' '9' '270' '0.7' '3' '90' '0.7']\n",
            " ['25' ' Road work' '50' '1500' '4.1' '16' '480' '3.8']\n",
            " ['26' ' Traffic signals' '20' '600' '1.6' '6' '180' '1.4']\n",
            " ['27' ' Pedestrians' '8' '240' '0.7' '2' '60' '0.5']\n",
            " ['28' ' Children crossing' '18' '540' '1.5' '5' '150' '1.2']\n",
            " ['29' ' Bicycles crossing' '9' '270' '0.7' '3' '90' '0.7']\n",
            " ['30' ' Beware of ice/snow' '15' '450' '1.2' '5' '150' '1.2']\n",
            " ['31' ' Wild animals crossing' '26' '780' '2.1' '9' '270' '2.1']\n",
            " ['32' ' End of all speed and passing limits' '8' '240' '0.7' '2' '60'\n",
            "  '0.5']\n",
            " ['33' ' Turn right ahead' '22' '689' '1.9' '7' '210' '1.7']\n",
            " ['34' ' Turn left ahead' '14' '420' '1.1' '4' '120' '1.0']\n",
            " ['35' ' Ahead only' '40' '1200' '3.3' '13' '390' '3.1']\n",
            " ['36' ' Go straight or right' '13' '390' '1.1' '4' '120' '1.0']\n",
            " ['37' ' Go straight or left' '7' '210' '0.6' '2' '60' '0.5']\n",
            " ['38' ' Keep right' '69' '2070' '5.7' '23' '690' '5.5']\n",
            " ['39' ' Keep left' '10' '300' '0.8' '3' '90' '0.7']\n",
            " ['40' ' Roundabout mandatory' '12' '360' '1.0' '3' '90' '0.7']\n",
            " ['41' ' End of no passing' '8' '240' '0.7' '2' '60' '0.5']\n",
            " ['42' ' End of no passing by vehicles over 3.5 metric tons' '8' '240'\n",
            "  '0.7' '3' '90' '0.7']]\n"
          ],
          "name": "stdout"
        }
      ]
    },
    {
      "cell_type": "code",
      "metadata": {
        "colab": {
          "base_uri": "https://localhost:8080/",
          "height": 513
        },
        "id": "SMXMMmrn3STu",
        "outputId": "845ade62-a7a9-47f4-afc2-f3f1ce93e9fe"
      },
      "source": [
        "f1, cell1 = plt.subplots(figsize=(16,8))\n",
        "cell1.bar(range(len(n_tracks_train)), n_tracks_train, width=0.9)\n",
        "cell1.set_ylabel(\"Number of tracks\")\n",
        "cell1.set_xlabel(\"Class ID\")\n",
        "cell1.set_xticks(np.arange(0,43,1))\n",
        "cell1.set_title(\"Number of tracks per traffic sign category in the training dataset\")\n",
        "for ymaj in cell1.yaxis.get_majorticklocs():\n",
        "    cell1.axhline(y=ymaj, linewidth=0.5)"
      ],
      "execution_count": null,
      "outputs": [
        {
          "output_type": "display_data",
          "data": {
            "image/png": "[encoded data removed]",
            "text/plain": [
              "<Figure size 1152x576 with 1 Axes>"
            ]
          },
          "metadata": {
            "tags": [],
            "needs_background": "light"
          }
        }
      ]
    },
    {
      "cell_type": "markdown",
      "metadata": {
        "id": "X6FSn4w1tdFv"
      },
      "source": [
        "# Creating a validation dataset"
      ]
    },
    {
      "cell_type": "code",
      "metadata": {
        "id": "pQgFVFpN56ha"
      },
      "source": [
        "def val_split(features, labels, sizes, coords, n_pick=2, n_imgs_per_track=30):\n",
        "    \n",
        "    #Get the number of classes and the number of samples for each class\n",
        "    train_unique, train_counts = np.unique(labels, return_counts='True')\n",
        "\n",
        "    n_tracks = (train_counts / n_imgs_per_track).astype(int) \n",
        "    \n",
        "    #Calculate a list of the cumulative number of images in all classes.\n",
        "    cum_imgs_per_class = np.zeros(len(train_unique), dtype='int')\n",
        "    for k in range(1, len(train_unique)):\n",
        "        cum_imgs_per_class[k:] += train_counts[k-1]\n",
        "\n",
        "    val_indices = np.array([], dtype='int')\n",
        "    for c in range(len(train_unique)): \n",
        "        val_tracks = random.sample(range(n_tracks[c]), n_pick) \n",
        "        for k in val_tracks: \n",
        "            start = cum_imgs_per_class[c] + n_imgs_per_track * k \n",
        "            end = start + n_imgs_per_track\n",
        "            val_indices = np.hstack((val_indices, np.r_[start:end]))  \n",
        "    \n",
        "    val_features = np.take(features, val_indices, 0)\n",
        "    val_labels = np.take(labels, val_indices, 0)\n",
        "    val_sizes = np.take(sizes, val_indices, 0)\n",
        "    val_coords = np.take(coords, val_indices, 0)\n",
        "\n",
        "    train_features = np.take(features, sorted(set(range(len(features)))-set(val_indices)), 0)\n",
        "    train_labels = np.take(labels, sorted(set(range(len(labels)))-set(val_indices)), 0)\n",
        "    train_sizes = np.take(sizes, sorted(set(range(len(sizes)))-set(val_indices)), 0)\n",
        "    train_coords = np.take(coords, sorted(set(range(len(coords)))-set(val_indices)), 0)\n",
        "    \n",
        "    return (train_features,\n",
        "            train_labels,\n",
        "            train_sizes,\n",
        "            train_coords,\n",
        "            val_features,\n",
        "            val_labels,\n",
        "            val_sizes,\n",
        "            val_coords)"
      ],
      "execution_count": null,
      "outputs": []
    },
    {
      "cell_type": "code",
      "metadata": {
        "colab": {
          "base_uri": "https://localhost:8080/"
        },
        "id": "fq0fmKoH5-4X",
        "outputId": "a135947e-cbf6-4412-f049-647ce10ff3de"
      },
      "source": [
        "#Split off the validation dataset.\n",
        "train_features, train_labels, train_sizes, train_coords, val_features, val_labels, val_sizes, val_coords = val_split(train['features'],\n",
        "                                                                                                                     train['labels'],\n",
        "                                                                                                                     train['sizes'],\n",
        "                                                                                                                     train['coords'])\n",
        "\n",
        "np.save('./val_features', val_features)\n",
        "np.save('./val_labels', val_labels)\n",
        "np.save('./val_sizes', val_sizes)\n",
        "np.save('./val_coords', val_coords)\n",
        "\n",
        "np.save('./train_features', train_features)\n",
        "np.save('./train_labels', train_labels)\n",
        "np.save('./train_sizes', train_sizes)\n",
        "np.save('./train_coords', train_coords)\n",
        "\n",
        "print(\"Training and validation datasets created and saved to disk.\")\n",
        "print()\n",
        "\n",
        "n_train = len(train_features)\n",
        "n_val = len(val_features)\n",
        "n_test = len(test['features'])\n",
        "image_shape = train_features[0,:,:,:].shape\n",
        "n_classes = len(train_unique)\n",
        "\n",
        "print(\"Number of training examples =\", n_train)\n",
        "print(\"Number of validation examples =\", n_val)\n",
        "print(\"Number of testing examples =\", n_test)\n",
        "print(\"Image data shape =\", image_shape)\n",
        "print(\"Number of classes in the training set =\", n_classes)"
      ],
      "execution_count": null,
      "outputs": [
        {
          "output_type": "stream",
          "text": [
            "Training and validation datasets created and saved to disk.\n",
            "\n",
            "Number of training examples = 36629\n",
            "Number of validation examples = 2580\n",
            "Number of testing examples = 12630\n",
            "Image data shape = (32, 32, 3)\n",
            "Number of classes in the training set = 43\n"
          ],
          "name": "stdout"
        }
      ]
    },
    {
      "cell_type": "code",
      "metadata": {
        "id": "Ft5AHfJt6GiO"
      },
      "source": [
        "train_features = np.load('./train_features.npy')\n",
        "train_labels = np.load('./train_labels.npy')\n",
        "val_features = np.load('./val_features.npy')\n",
        "val_labels = np.load('./val_labels.npy')\n",
        "\n",
        "testing_file = '/content/drive/MyDrive/Colab Notebooks/MMA/traffic-signs-data/test.p'\n",
        "with open(testing_file, mode='rb') as f:\n",
        "    test = pickle.load(f)"
      ],
      "execution_count": null,
      "outputs": []
    },
    {
      "cell_type": "markdown",
      "metadata": {
        "id": "oBiuaEBvtjkO"
      },
      "source": [
        "# Data Augmentation"
      ]
    },
    {
      "cell_type": "code",
      "metadata": {
        "id": "YlMr15Lf6Q-0"
      },
      "source": [
        "def perspective_transform(image, orientation='rand'):\n",
        "    \n",
        "    rows,cols,ch = image.shape\n",
        "    \n",
        "    k=3\n",
        "    \n",
        "    choices = [[5,5,5,5],\n",
        "              [5,5,k,5+k]]\n",
        "    choice = random.choice(choices)\n",
        "    \n",
        "    hdistl = choice[0] \n",
        "    hdistr = choice[1] \n",
        "    vdistt = choice[2] \n",
        "    vdistb = choice[3] \n",
        "    #Generate the point sets depending on the orientation passed.\n",
        "    if orientation == 'rand':\n",
        "        orientation = random.choice(['left', 'right'])\n",
        "    \n",
        "    if orientation == 'left':\n",
        "        pts1 = np.float32([[0,k],[cols,k],[0,rows-k],[cols,rows-k]])\n",
        "        pts2 = np.float32([[hdistl,vdistt],[cols-hdistr,0],[hdistl,rows-vdistb],[cols-hdistr,rows]])\n",
        "    elif orientation == 'right':\n",
        "        pts1 = np.float32([[0,k],[cols,k],[0,rows-k],[cols,rows-k]])\n",
        "        pts2 = np.float32([[hdistl,0],[cols-hdistr,vdistt],[hdistl,rows],[cols-hdistr,rows-vdistb]])\n",
        "    else: raise ValueError(\"No or unknown orientation given. Possible values are 'left' and 'right'.\")\n",
        "    \n",
        "    #Calculate the transformation matrix, perform the transformation, and return it.\n",
        "    M = cv2.getPerspectiveTransform(pts1, pts2)\n",
        "    return cv2.warpPerspective(image, M, (rows, cols))\n",
        "\n",
        "def rotate(image, min=5, max=15, orientation='rand'):\n",
        "    \n",
        "    rows,cols,ch = image.shape\n",
        "    \n",
        "    random_rot = np.random.randint(min, max+1)\n",
        "    \n",
        "    if orientation == 'rand':\n",
        "        rotation_angle = random.choice([-random_rot, random_rot])\n",
        "    elif orientation == 'left':\n",
        "        rotation_angle = random_rot\n",
        "    elif orientation == 'right':\n",
        "        rotation_angle = -random_rot\n",
        "    else:\n",
        "        raise ValueError(\"Orientation is optional and can only be 'left' or 'right'.\")\n",
        "    \n",
        "    M = cv2.getRotationMatrix2D((cols/2,rows/2), rotation_angle, 1)\n",
        "    return cv2.warpAffine(image, M, (cols, rows))\n",
        "\n",
        "def translate(image, min=2, max=2):\n",
        "    \n",
        "    rows,cols,ch = image.shape\n",
        "    \n",
        "    x = np.random.randint(min, max+1)\n",
        "    y = np.random.randint(min, max+1)\n",
        "    x_shift = random.choice([-x, x])\n",
        "    y_shift = random.choice([-y, y])\n",
        "    M = np.float32([[1,0,x_shift],[0,1,y_shift]])\n",
        "    return cv2.warpAffine(image, M, (cols, rows))\n",
        "\n",
        "def scale(image, min=0.9, max=1.1):\n",
        "    \n",
        "    rows,cols,ch = image.shape\n",
        "    \n",
        "    scale = np.random.uniform(min, max)\n",
        "    \n",
        "    M = cv2.getRotationMatrix2D((cols/2,rows/2), 0, scale)\n",
        "    return cv2.warpAffine(image, M, (cols, rows))\n",
        "\n",
        "def brightness(image, min=0.5, max=2.0):\n",
        "    \n",
        "    hsv = cv2.cvtColor(image,cv2.COLOR_RGB2HSV)\n",
        "\n",
        "    random_br = np.random.uniform(min,max)\n",
        "    \n",
        "    mask = hsv[:,:,2]*random_br > 255\n",
        "    v_channel = np.where(mask, 255, hsv[:,:,2]*random_br)\n",
        "    hsv[:,:,2] = v_channel\n",
        "    \n",
        "    return cv2.cvtColor(hsv,cv2.COLOR_HSV2RGB)\n",
        "\n",
        "def histogram_eq(image):\n",
        "    \n",
        "    image1 = np.copy(image)\n",
        "    \n",
        "    image1[:,:,0] = cv2.equalizeHist(image1[:,:,0])\n",
        "    image1[:,:,1] = cv2.equalizeHist(image1[:,:,1])\n",
        "    image1[:,:,2] = cv2.equalizeHist(image1[:,:,2])\n",
        "    \n",
        "    return image1"
      ],
      "execution_count": null,
      "outputs": []
    },
    {
      "cell_type": "code",
      "metadata": {
        "colab": {
          "base_uri": "https://localhost:8080/",
          "height": 156
        },
        "id": "xEV9JPbG6Ydl",
        "outputId": "438b869d-c872-45ed-8304-72c26d53c886"
      },
      "source": [
        "image = train_features[10000]\n",
        "\n",
        "transform_exmpl = [image,\n",
        "                   perspective_transform(image),\n",
        "                   translate(image),\n",
        "                   scale(image),\n",
        "                   rotate(image, min=10),\n",
        "                   brightness(image),\n",
        "                   histogram_eq(image)]\n",
        "\n",
        "transform_descs = ['Original', 'Perspective', 'Translate', 'Scale', 'Rotate', 'Brightness', 'Equalization']\n",
        "\n",
        "f2, cell2 = plt.subplots(1, 7, figsize=(16,6))\n",
        "for i in range(7):\n",
        "    cell2[i].imshow(transform_exmpl[i])\n",
        "    cell2[i].axis('off')\n",
        "    cell2[i].set_title(transform_descs[i])"
      ],
      "execution_count": null,
      "outputs": [
        {
          "output_type": "display_data",
          "data": {
            "image/png": "[encoded data removed]",
            "text/plain": [
              "<Figure size 1152x432 with 7 Axes>"
            ]
          },
          "metadata": {
            "tags": [],
            "needs_background": "light"
          }
        }
      ]
    },
    {
      "cell_type": "code",
      "metadata": {
        "colab": {
          "base_uri": "https://localhost:8080/",
          "height": 241
        },
        "id": "Q31ifd2S6aGp",
        "outputId": "22449736-044e-4e48-e0f4-28d01121bae7"
      },
      "source": [
        "# Transform 1: Scale -> Translate -> Perspective Transform\n",
        "transform1_exmpl = np.array([perspective_transform(translate(scale(image))) for image in train_features[10000:10001]])\n",
        "\n",
        "# Transform 2: Brightness -> Translate -> Rotate\n",
        "transform2_exmpl = np.array([rotate(translate(brightness(image))) for image in train_features[10000:10001]])\n",
        "\n",
        "# Transform 3: Brightness -> Scale -> Translate\n",
        "transform3_exmpl = np.array([translate(scale(brightness(image)), 0, 2) for image in train_features[10000:10001]])\n",
        "\n",
        "transform_exmpl2 = [train_features[10000], transform1_exmpl[0], transform2_exmpl[0], transform3_exmpl[0]]\n",
        "transform_exmpl2_descs = ['Original', 'Transform 1', 'Transform 2', 'Transform 3']\n",
        "\n",
        "f3, cell13 = plt.subplots(1, 4, figsize=(16,6))\n",
        "for i in range(4):\n",
        "    cell13[i].imshow(transform_exmpl2[i])\n",
        "    cell13[i].axis('off')\n",
        "    cell13[i].set_title(transform_exmpl2_descs[i])"
      ],
      "execution_count": null,
      "outputs": [
        {
          "output_type": "display_data",
          "data": {
            "image/png": "[encoded data removed]",
            "text/plain": [
              "<Figure size 1152x432 with 4 Axes>"
            ]
          },
          "metadata": {
            "tags": [],
            "needs_background": "light"
          }
        }
      ]
    },
    {
      "cell_type": "code",
      "metadata": {
        "id": "4FVTvN5A6iN7"
      },
      "source": [
        "# Produce the jittered datasets and save them to disk.\n",
        "# Since the order of the images is left unchanged, we don't need to produce new label sets.\n",
        "\n",
        "transform1_features = np.array([perspective_transform(translate(scale(image))) for image in train_features])\n",
        "transform2_features = np.array([rotate(translate(brightness(image))) for image in train_features])\n",
        "transform3_features = np.array([translate(scale(brightness(image)), 0, 2) for image in train_features])\n",
        "\n",
        "np.save('./transform1_features', transform1_features)\n",
        "np.save('./transform2_features', transform2_features)\n",
        "np.save('./transform3_features', transform3_features)"
      ],
      "execution_count": null,
      "outputs": []
    },
    {
      "cell_type": "code",
      "metadata": {
        "colab": {
          "base_uri": "https://localhost:8080/"
        },
        "id": "u3I2NJTA6jRV",
        "outputId": "ab54dcb7-6f86-4f23-a8ef-29a9d02f7c91"
      },
      "source": [
        "\n",
        "#transform1_features = np.load('./transform1_features.npy')\n",
        "transform2_features = np.load('./transform2_features.npy')\n",
        "transform3_features = np.load('./transform3_features.npy')\n",
        "\n",
        "\n",
        "augmented_training_features = np.concatenate((train_features,\n",
        "                                              transform2_features,\n",
        "                                              transform3_features))\n",
        "\n",
        "augmented_training_labels = np.concatenate((train_labels,\n",
        "                                            train_labels,\n",
        "                                            train_labels))\n",
        "\n",
        "assert(len(augmented_training_features) == len(augmented_training_labels))\n",
        "print(\"Number of training examples in the augmented training dataset: {}\".format(len(augmented_training_features)))\n",
        "print(\"Format of the augmented training features: {}\".format(augmented_training_features.shape))\n",
        "print(\"Format of the augmented training labels: {}\".format(augmented_training_labels.shape))"
      ],
      "execution_count": null,
      "outputs": [
        {
          "output_type": "stream",
          "text": [
            "Number of training examples in the augmented training dataset: 109887\n",
            "Format of the augmented training features: (109887, 32, 32, 3)\n",
            "Format of the augmented training labels: (109887,)\n"
          ],
          "name": "stdout"
        }
      ]
    },
    {
      "cell_type": "markdown",
      "metadata": {
        "id": "62pM66zBtqAi"
      },
      "source": [
        "# Data Preprocessing"
      ]
    },
    {
      "cell_type": "code",
      "metadata": {
        "id": "FHbvG9_S6p6B"
      },
      "source": [
        "# Convert the training, validation, and test datasets from RGB to grayscale.\n",
        "train_features_gray = np.expand_dims(np.asarray([cv2.cvtColor(img, cv2.COLOR_RGB2GRAY) for img in augmented_training_features]), 3)\n",
        "val_features_gray = np.expand_dims(np.asarray([cv2.cvtColor(img, cv2.COLOR_RGB2GRAY) for img in val_features]), 3)\n",
        "test_features_gray = np.expand_dims(np.asarray([cv2.cvtColor(img, cv2.COLOR_RGB2GRAY) for img in test['features']]), 3)\n",
        "\n",
        "X_train, y_train = train_features_gray / 127.5 - 1, augmented_training_labels\n",
        "X_val, y_val = val_features_gray / 127.5 - 1, val_labels\n",
        "X_test, y_test = test_features_gray / 127.5 - 1, test['labels']"
      ],
      "execution_count": null,
      "outputs": []
    },
    {
      "cell_type": "code",
      "metadata": {
        "id": "eUBfWhpV6voD"
      },
      "source": [
        "X_train, y_train = shuffle(X_train, y_train)"
      ],
      "execution_count": null,
      "outputs": []
    },
    {
      "cell_type": "markdown",
      "metadata": {
        "id": "LmxI7rxStwIV"
      },
      "source": [
        "# Training the model"
      ]
    },
    {
      "cell_type": "code",
      "metadata": {
        "id": "wGs1Z4B16z5_"
      },
      "source": [
        "# Define a batch normalization function that can distinguish between training and inference.\n",
        "\n",
        "def batch_normalization(x, is_training, offset, scale, pop_mean, pop_var, layer_type, decay=0.99): \n",
        "    \n",
        "    return tf.cond(is_training,\n",
        "                   lambda: train_normalize(x, offset, scale, pop_mean, pop_var, layer_type, decay),\n",
        "                   lambda: inference_normalize(x, pop_mean, pop_var, offset, scale))\n",
        "\n",
        "def train_normalize(x, offset, scale, pop_mean, pop_var, layer_type, decay):\n",
        "    epsilon = 1e-4\n",
        "    if layer_type=='conv':\n",
        "        batch_mean, batch_var = tf.nn.moments(x, axes=[0, 1, 2])\n",
        "        train_mean = tf.assign(pop_mean, pop_mean * decay + batch_mean * (1 - decay))\n",
        "        train_var = tf.assign(pop_var, pop_var * decay + batch_var * (1 - decay))\n",
        "        with tf.control_dependencies([train_mean, train_var]):\n",
        "            return tf.nn.batch_normalization(x, batch_mean, batch_var, offset, scale, epsilon)\n",
        "    elif layer_type=='fc':\n",
        "        batch_mean, batch_var = tf.nn.moments(x, axes=[0])\n",
        "        train_mean = tf.assign(pop_mean, pop_mean * decay + batch_mean * (1 - decay))\n",
        "        train_var = tf.assign(pop_var, pop_var * decay + batch_var * (1 - decay))\n",
        "        with tf.control_dependencies([train_mean, train_var]):\n",
        "            return tf.nn.batch_normalization(x, batch_mean, batch_var, offset, scale, epsilon)\n",
        "    else: raise ValueError(\"No or unknown layer type given. Supported layer types are convolutional ('conv') and fully connected ('fc').\")\n",
        "\n",
        "def inference_normalize(x, pop_mean, pop_var, offset, scale):\n",
        "    epsilon = 1e-4\n",
        "    return tf.nn.batch_normalization(x, pop_mean, pop_var, offset, scale, epsilon)"
      ],
      "execution_count": null,
      "outputs": []
    },
    {
      "cell_type": "code",
      "metadata": {
        "id": "siVjvYOZ6_5z"
      },
      "source": [
        "def evaluate(X_data, y_data):\n",
        "    num_examples = len(X_data)\n",
        "    total_accuracy = 0\n",
        "    sess = tf.get_default_session()\n",
        "    for offset in range(0, num_examples, batch_size):\n",
        "        batch_X, batch_y = X_data[offset:offset+batch_size], y_data[offset:offset+batch_size]\n",
        "        accuracy = sess.run(acc, feed_dict={X: batch_X, y: batch_y, keep_prob: 1.0, is_training: False})\n",
        "        total_accuracy += (accuracy * len(batch_X))\n",
        "    return total_accuracy / num_examples"
      ],
      "execution_count": null,
      "outputs": []
    },
    {
      "cell_type": "code",
      "metadata": {
        "id": "OkdTyqyLhUo2"
      },
      "source": [
        "def build_graph_p2():\n",
        "    \n",
        "    ilr_BN = 0.002 #The initial learning rate\n",
        "    global_step_BN = tf.Variable(0, trainable=False) \n",
        "    learning_rate_BN = tf.train.exponential_decay(ilr_BN, global_step_BN, decay_steps=800, decay_rate=0.9, staircase=True)\n",
        "    \n",
        "    #L2 regularization factor\n",
        "    lmbda_BN = 0.0005\n",
        "    \n",
        "    n_input_channels = 1 #The number of color channels of the input data\n",
        "    \n",
        "    #The depth of each layer.\n",
        "    layer_depth = {'conv1': 108,\n",
        "                   'conv2': 200,\n",
        "                   'fc1': 100,\n",
        "                   'fc2': 43}\n",
        "    \n",
        "    #The convolutional filter size. \n",
        "    fsize = {\n",
        "        '1': 5,\n",
        "        '2': 5\n",
        "    }\n",
        "    \n",
        "    #The convolutional stride and max pooling ksize are the same for all layers\n",
        "    conv_stride = 1\n",
        "    pool_k = 2\n",
        "    \n",
        "    #Placeholders for the is_training flag.\n",
        "    is_training = tf.placeholder(tf.bool)\n",
        "    \n",
        "    #Placeholders for the inputs.\n",
        "    X = tf.placeholder(tf.float32, (None, 32, 32, n_input_channels))\n",
        "    y = tf.placeholder(tf.int32, (None))\n",
        "    y_one_hot = tf.one_hot(y, 43)\n",
        "    \n",
        "    # Layer 1: Convolutional. Input = 32x32x1. Output = 28x28x108.\n",
        "    conv1_W_BN = tf.Variable(tf.truncated_normal(shape=(fsize['1'], fsize['1'], n_input_channels, layer_depth['conv1']), stddev = 1/(fsize['1']*np.sqrt(n_input_channels/2))))\n",
        "    conv1_beta = tf.Variable(tf.zeros(layer_depth['conv1'])) #Scale for batch normalization. \n",
        "    conv1_gamma = tf.Variable(tf.ones(layer_depth['conv1'])) #Offset for batch normalization. \n",
        "    conv1_pop_mean = tf.Variable(tf.zeros(layer_depth['conv1']), trainable=False) #An estimator of the population mean.\n",
        "    conv1_pop_var = tf.Variable(tf.ones(layer_depth['conv1']), trainable=False) #An estimator of the population variance.\n",
        "    conv1_BN = tf.nn.conv2d(X, conv1_W_BN, [1,conv_stride,conv_stride,1], padding='VALID')\n",
        "    conv1_BN = batch_normalization(conv1_BN, is_training, conv1_beta, conv1_gamma, conv1_pop_mean, conv1_pop_var, layer_type='conv')\n",
        "    conv1_BN = tf.nn.relu(conv1_BN)\n",
        "\n",
        "    # Pooling. Input = 28x28x108. Output = 14x14x108.\n",
        "    conv1_BN = tf.nn.max_pool(conv1_BN, ksize=[1,pool_k,pool_k,1], strides=[1,pool_k,pool_k,1], padding='VALID')\n",
        "    \n",
        "    # Layer 2: Convolutional. Input = 14x14x108. Output = 10x10x200.\n",
        "    conv2_W_BN = tf.Variable(tf.truncated_normal(shape=(fsize['2'], fsize['2'], layer_depth['conv1'], layer_depth['conv2']), stddev = 1/(fsize['2']*np.sqrt(layer_depth['conv1']/2))))\n",
        "    conv2_beta = tf.Variable(tf.zeros(layer_depth['conv2']))\n",
        "    conv2_gamma = tf.Variable(tf.ones(layer_depth['conv2']))\n",
        "    conv2_pop_mean = tf.Variable(tf.zeros(layer_depth['conv2']), trainable=False)\n",
        "    conv2_pop_var = tf.Variable(tf.ones(layer_depth['conv2']), trainable=False)\n",
        "    conv2_BN = tf.nn.conv2d(conv1_BN, conv2_W_BN, [1,conv_stride,conv_stride,1], padding='VALID')\n",
        "    conv2_BN = batch_normalization(conv2_BN, is_training, conv2_beta, conv2_gamma, conv2_pop_mean, conv2_pop_var, layer_type='conv')\n",
        "    conv2_BN = tf.nn.relu(conv2_BN)\n",
        "    \n",
        "    # Pooling. Input = 10x10x200. Output = 5x5x200.\n",
        "    conv2_BN = tf.nn.max_pool(conv2_BN, ksize=[1,pool_k,pool_k,1], strides=[1,pool_k,pool_k,1], padding='VALID')\n",
        "    \n",
        "    # Flatten. Input = 5x5x200. Output = 5,000.\n",
        "    fc0_BN = flatten(conv2_BN)\n",
        "    \n",
        "    # Layer 3: Fully Connected. Input = 5,000. Output = 100.\n",
        "    fc1_W_BN = tf.Variable(tf.truncated_normal(shape=(5*5*layer_depth['conv2'],layer_depth['fc1']), stddev = 1/np.sqrt(5*5*layer_depth['conv2']/2)))\n",
        "    fc1_beta = tf.Variable(tf.zeros(layer_depth['fc1']))\n",
        "    fc1_gamma = tf.Variable(tf.ones(layer_depth['fc1']))\n",
        "    fc1_pop_mean = tf.Variable(tf.zeros(layer_depth['fc1']), trainable=False)\n",
        "    fc1_pop_var = tf.Variable(tf.ones(layer_depth['fc1']), trainable=False)\n",
        "    fc1_BN = tf.matmul(fc0_BN, fc1_W_BN)\n",
        "    fc1_BN = batch_normalization(fc1_BN, is_training, fc1_beta, fc1_gamma, fc1_pop_mean, fc1_pop_var, layer_type='fc')\n",
        "    fc1_BN = tf.nn.relu(fc1_BN)\n",
        "\n",
        "    # Layer 4: Fully Connected. Input = 100. Output = 43.\n",
        "    fc2_W_BN = tf.Variable(tf.truncated_normal(shape=(layer_depth['fc1'],layer_depth['fc2']), stddev = 1/np.sqrt(layer_depth['fc1']/2)))\n",
        "    fc2_b_BN = tf.Variable(tf.zeros(layer_depth['fc2']))\n",
        "    logits_BN = tf.matmul(fc1_BN, fc2_W_BN) + fc2_b_BN\n",
        "    softmax_BN = tf.nn.softmax(logits_BN)\n",
        "    \n",
        "    #Softmax with cross entropy loss\n",
        "    loss_BN = tf.reduce_sum(tf.nn.softmax_cross_entropy_with_logits(logits = logits_BN, labels = y_one_hot)) + lmbda_BN*(tf.nn.l2_loss(conv1_W_BN) + tf.nn.l2_loss(conv2_W_BN) + tf.nn.l2_loss(fc1_W_BN) + tf.nn.l2_loss(fc2_W_BN))\n",
        "    \n",
        "    #Adam minimizer\n",
        "    training_step_BN = tf.train.AdamOptimizer(learning_rate=learning_rate_BN).minimize(loss_BN, global_step=global_step_BN)\n",
        "    \n",
        "    #Prediction accuracy op\n",
        "    correct_prediction_BN = tf.equal(tf.argmax(logits_BN, 1), tf.argmax(y_one_hot, 1))\n",
        "    accuracy_BN = tf.reduce_mean(tf.cast(correct_prediction_BN, tf.float32))\n",
        "    \n",
        "    return (X,\n",
        "            y,\n",
        "            is_training,\n",
        "            keep_prob,\n",
        "            softmax_BN,\n",
        "            training_step_BN,\n",
        "            accuracy_BN,\n",
        "            correct_prediction_BN,\n",
        "            tf.train.Saver()\n",
        "           )"
      ],
      "execution_count": null,
      "outputs": []
    },
    {
      "cell_type": "code",
      "metadata": {
        "colab": {
          "base_uri": "https://localhost:8080/"
        },
        "id": "YhYrAdnuhbno",
        "outputId": "0033f9ef-6af6-4a22-8d4c-25a30ecc8361"
      },
      "source": [
        "#Perform the training\n",
        "\n",
        "epochs = 10\n",
        "batch_size = 128\n",
        "\n",
        "start_time = time.time()\n",
        "tf.reset_default_graph()\n",
        "\n",
        "p2_model_acc = []\n",
        "p2_model_acc_steps = []\n",
        "\n",
        "#Build the graph\n",
        "X, y, is_training, keep_prob, softmax, training_step, acc, correct_prediction, saver = build_graph_p2()\n",
        "\n",
        "#Run the training session\n",
        "with tf.Session() as sess:\n",
        "    sess.run(tf.global_variables_initializer())\n",
        "    num_examples = len(X_train)\n",
        "    k = 0 #Counter for the number of training steps\n",
        "\n",
        "    print(\"Training...\")\n",
        "    print()\n",
        "    for i in range(epochs):\n",
        "        print(\"EPOCH {} ...\".format(i+1))\n",
        "        print()\n",
        "        X_train, y_train = shuffle(X_train, y_train)\n",
        "        for offset in range(0, num_examples, batch_size):\n",
        "            #Create a mini batch\n",
        "            end = offset + batch_size\n",
        "            batch_X, batch_y = X_train[offset:end], y_train[offset:end]\n",
        "            #Run a training step\n",
        "            sess.run(training_step, feed_dict={\n",
        "                X: batch_X,\n",
        "                y: batch_y,\n",
        "                keep_prob: 0.5,\n",
        "                is_training: True})\n",
        "            k += 1\n",
        "            \n",
        "        #Evaluate accuracy\n",
        "        training_accuracy = evaluate(X_train, y_train)\n",
        "        validation_accuracy = evaluate(X_val, y_val)\n",
        "        p2_model_acc.append(validation_accuracy)\n",
        "        p2_model_acc_steps.append(k)\n",
        "        print(\"Number of training steps: {}\".format(k))\n",
        "        print(\"Training Accuracy = {:.3f}\".format(training_accuracy))\n",
        "        print(\"Validation Accuracy = {:.3f}\".format(validation_accuracy))\n",
        "        print(\"Time elapsed: %s seconds\" % round(time.time() - start_time, 0))\n",
        "        print()\n",
        "    \n",
        "    model_name = 'p2_model_02_nodropout_augdata'\n",
        "    saved_model = saver.save(sess, model_name)\n",
        "    print(\"Model saved as {}\".format(model_name))\n",
        "    print()\n",
        "\n",
        "p2_model_acc = np.array(p2_model_acc)\n",
        "p2_model_acc_steps = np.array(p2_model_acc_steps)\n",
        "np.save('./{}_accs'.format(model_name), p2_model_acc)\n",
        "np.save('./{}_steps'.format(model_name), p2_model_acc_steps)"
      ],
      "execution_count": null,
      "outputs": [
        {
          "output_type": "stream",
          "text": [
            "WARNING:tensorflow:From /usr/local/lib/python3.7/dist-packages/tensorflow_core/contrib/layers/python/layers/layers.py:1634: flatten (from tensorflow.python.layers.core) is deprecated and will be removed in a future version.\n",
            "Instructions for updating:\n",
            "Use keras.layers.flatten instead.\n",
            "WARNING:tensorflow:From /usr/local/lib/python3.7/dist-packages/tensorflow_core/python/layers/core.py:332: Layer.apply (from tensorflow.python.keras.engine.base_layer) is deprecated and will be removed in a future version.\n",
            "Instructions for updating:\n",
            "Please use `layer.__call__` method instead.\n",
            "WARNING:tensorflow:From <ipython-input-46-3abb3ef636c9>:91: softmax_cross_entropy_with_logits (from tensorflow.python.ops.nn_ops) is deprecated and will be removed in a future version.\n",
            "Instructions for updating:\n",
            "\n",
            "Future major versions of TensorFlow will allow gradients to flow\n",
            "into the labels input on backprop by default.\n",
            "\n",
            "See `tf.nn.softmax_cross_entropy_with_logits_v2`.\n",
            "\n",
            "Training...\n",
            "\n",
            "EPOCH 1 ...\n",
            "\n",
            "Number of training steps: 859\n",
            "Training Accuracy = 0.957\n",
            "Validation Accuracy = 0.928\n",
            "Time elapsed: 1470.0 seconds\n",
            "\n",
            "EPOCH 2 ...\n",
            "\n",
            "Number of training steps: 1718\n",
            "Training Accuracy = 0.986\n",
            "Validation Accuracy = 0.953\n",
            "Time elapsed: 2963.0 seconds\n",
            "\n",
            "EPOCH 3 ...\n",
            "\n",
            "Number of training steps: 2577\n",
            "Training Accuracy = 0.985\n",
            "Validation Accuracy = 0.934\n",
            "Time elapsed: 4441.0 seconds\n",
            "\n",
            "EPOCH 4 ...\n",
            "\n",
            "Number of training steps: 3436\n",
            "Training Accuracy = 0.992\n",
            "Validation Accuracy = 0.956\n",
            "Time elapsed: 5916.0 seconds\n",
            "\n",
            "EPOCH 5 ...\n",
            "\n",
            "Number of training steps: 4295\n",
            "Training Accuracy = 0.997\n",
            "Validation Accuracy = 0.950\n",
            "Time elapsed: 7393.0 seconds\n",
            "\n",
            "EPOCH 6 ...\n",
            "\n",
            "Number of training steps: 5154\n",
            "Training Accuracy = 0.997\n",
            "Validation Accuracy = 0.952\n",
            "Time elapsed: 8876.0 seconds\n",
            "\n",
            "EPOCH 7 ...\n",
            "\n",
            "Number of training steps: 6013\n",
            "Training Accuracy = 0.996\n",
            "Validation Accuracy = 0.954\n",
            "Time elapsed: 10362.0 seconds\n",
            "\n",
            "EPOCH 8 ...\n",
            "\n",
            "Number of training steps: 6872\n",
            "Training Accuracy = 0.989\n",
            "Validation Accuracy = 0.948\n",
            "Time elapsed: 11843.0 seconds\n",
            "\n",
            "EPOCH 9 ...\n",
            "\n",
            "Number of training steps: 7731\n",
            "Training Accuracy = 0.999\n",
            "Validation Accuracy = 0.964\n",
            "Time elapsed: 13330.0 seconds\n",
            "\n",
            "EPOCH 10 ...\n",
            "\n",
            "Number of training steps: 8590\n",
            "Training Accuracy = 0.999\n",
            "Validation Accuracy = 0.957\n",
            "Time elapsed: 14827.0 seconds\n",
            "\n",
            "Model saved as p2_model_02_nodropout_augdata\n",
            "\n"
          ],
          "name": "stdout"
        }
      ]
    },
    {
      "cell_type": "code",
      "metadata": {
        "id": "012wOPpcibmY",
        "colab": {
          "base_uri": "https://localhost:8080/",
          "height": 454
        },
        "outputId": "b9fb6cde-bb6b-455b-db1f-87dfc67b8be0"
      },
      "source": [
        "#Plot the accuracies on the validation dataset\n",
        "\n",
        "p2_model_02_nodropout_augdata = np.load('./p2_model_02_nodropout_augdata_accs.npy')\n",
        "\n",
        "print()\n",
        "print(\"Final accuracy on the validation dataset = {:.3f}\".format(p2_model_02_nodropout_augdata[-1]))\n",
        "print()\n",
        "\n",
        "fig5, ax5 = plt.subplots(figsize=(12,6))\n",
        "\n",
        "ax5.plot(range(0,len(p2_model_02_nodropout_augdata)), p2_model_02_nodropout_augdata, label='p2_model_02: No dropout, using the augmented dataset')\n",
        "ax5.set_xlabel('Epochs')\n",
        "ax5.set_xticks(range(0,len(p2_model_02_nodropout_augdata),1))\n",
        "ax5.set_ylabel('Accuracy')\n",
        "ax5.set_ylim([0.88,1])\n",
        "ax5.set_title('Accuracy on Validation Dataset')\n",
        "ax5.legend(loc=4)\n",
        "ax5.grid(True)\n",
        "\n",
        "plt.show()"
      ],
      "execution_count": null,
      "outputs": [
        {
          "output_type": "stream",
          "text": [
            "\n",
            "Final accuracy on the validation dataset = 0.957\n",
            "\n"
          ],
          "name": "stdout"
        },
        {
          "output_type": "display_data",
          "data": {
            "image/png": "[encoded data removed]",
            "text/plain": [
              "<Figure size 864x432 with 1 Axes>"
            ]
          },
          "metadata": {
            "tags": [],
            "needs_background": "light"
          }
        }
      ]
    },
    {
      "cell_type": "code",
      "metadata": {
        "id": "UubhoYLoidIT",
        "colab": {
          "base_uri": "https://localhost:8080/"
        },
        "outputId": "60dff561-6321-440d-ba5b-c4f2b5c14295"
      },
      "source": [
        "# Evaluate the model on the test dataset\n",
        "\n",
        "tf.reset_default_graph()\n",
        "\n",
        "#Build the graph\n",
        "X, y, is_training, keep_prob, softmax, training_step, acc, correct_prediction, saver = build_graph_p2()\n",
        "\n",
        "with tf.Session() as sess:\n",
        "    saver.restore(sess, './p2_model_02_nodropout_augdata')\n",
        "    test_accuracy = evaluate(X_test, y_test)\n",
        "    print()\n",
        "    print(\"Accuracy on the test dataset = {:.3f}\".format(test_accuracy))\n",
        "    print()"
      ],
      "execution_count": null,
      "outputs": [
        {
          "output_type": "stream",
          "text": [
            "INFO:tensorflow:Restoring parameters from ./p2_model_02_nodropout_augdata\n",
            "\n",
            "Accuracy on the test dataset = 0.976\n",
            "\n"
          ],
          "name": "stdout"
        }
      ]
    },
    {
      "cell_type": "markdown",
      "metadata": {
        "id": "LC-PKgyouEGc"
      },
      "source": [
        "# Testing the model"
      ]
    },
    {
      "cell_type": "code",
      "metadata": {
        "id": "sQK0O4jNSRNO",
        "colab": {
          "base_uri": "https://localhost:8080/",
          "height": 466
        },
        "outputId": "9eae08c8-9c14-40dc-eb15-cb669e09a5e6"
      },
      "source": [
        "from PIL import Image\n",
        "import glob\n",
        "\n",
        "testimgs = []\n",
        "filelist = glob.glob('/content/drive/MyDrive/Colab Notebooks/MMA/traffic-signs-data/images/*.png')\n",
        "filelist = sorted(filelist)\n",
        "\n",
        "for filename in filelist:\n",
        "    with Image.open(filename) as img:\n",
        "        arr = np.array(img)\n",
        "        testimgs.append(arr)\n",
        "\n",
        "f4, cell4 = plt.subplots(3, 3, figsize=(10,8))\n",
        "for i in range(3):\n",
        "    for j in range(3):\n",
        "        cell4[i, j].imshow(testimgs[3*i+j])\n",
        "        cell4[i, j].axis('off')\n",
        "\n",
        "#Convert to grayscale\n",
        "X_home = np.expand_dims(np.asarray([cv2.cvtColor(img, cv2.COLOR_RGB2GRAY) for img in testimgs]),3) #- channel_mean\n",
        "y_home = np.array([17,1,5,9,35,35,1,2,14])"
      ],
      "execution_count": null,
      "outputs": [
        {
          "output_type": "display_data",
          "data": {
            "image/png": "[encoded data removed]",
            "text/plain": [
              "<Figure size 720x576 with 9 Axes>"
            ]
          },
          "metadata": {
            "tags": [],
            "needs_background": "light"
          }
        }
      ]
    },
    {
      "cell_type": "code",
      "metadata": {
        "id": "PypsjuziSbEK",
        "colab": {
          "base_uri": "https://localhost:8080/",
          "height": 296
        },
        "outputId": "47a87eb7-89dc-4598-bf39-6c09f2aa4ee6"
      },
      "source": [
        "from PIL import Image as im\n",
        "from google.colab.patches import cv2_imshow\n",
        "tf.reset_default_graph()\n",
        "\n",
        "#Build the graph\n",
        "X, y, is_training, keep_prob, softmax, training_step, acc, correct_prediction, saver = build_graph_p2()\n",
        "\n",
        "with tf.Session() as sess:\n",
        "    saver.restore(sess, './p2_model_02_nodropout_augdata')\n",
        "    res2 = sess.run([softmax,\n",
        "                     correct_prediction,\n",
        "                     tf.nn.top_k(softmax, k=3)],\n",
        "                    feed_dict={X: X_home,\n",
        "                               y: y_home,\n",
        "                               is_training: False,\n",
        "                               keep_prob: 1})\n",
        "    home_accuracy = np.mean(res2[1].astype(np.int32))\n",
        "    print(\"Accuracy on my own images = {:.3f}\".format(home_accuracy))\n",
        "    print()\n",
        "\n",
        "print(\"The following images were classified incorrectly:\")\n",
        "print()\n",
        "\n",
        "#Find the indices of the images that were classified incorrectly.\n",
        "incorrect_inds = np.squeeze(np.argwhere(res2[1]==False))\n",
        "\n",
        "for k in range(len(incorrect_inds)):\n",
        "    j = incorrect_inds[k]\n",
        "    cv2_imshow(testimgs[incorrect_inds[k]])\n",
        "    print(\"was incorrectly classified as {}, while it actually is {}.\".format(signnames[j], signnames[y_home[j]]))"
      ],
      "execution_count": null,
      "outputs": [
        {
          "output_type": "stream",
          "text": [
            "INFO:tensorflow:Restoring parameters from ./p2_model_02_nodropout_augdata\n",
            "Accuracy on my own images = 0.556\n",
            "\n",
            "The following images were classified incorrectly:\n",
            "\n"
          ],
          "name": "stdout"
        },
        {
          "output_type": "display_data",
          "data": {
            "image/png": "[encoded data removed]",
            "text/plain": [
              "<PIL.Image.Image image mode=RGB size=32x32 at 0x7F12CE9756D0>"
            ]
          },
          "metadata": {
            "tags": []
          }
        },
        {
          "output_type": "stream",
          "text": [
            "was incorrectly classified as  Speed limit (30km/h), while it actually is  Speed limit (30km/h).\n"
          ],
          "name": "stdout"
        },
        {
          "output_type": "display_data",
          "data": {
            "image/png": "[encoded data removed]",
            "text/plain": [
              "<PIL.Image.Image image mode=RGB size=32x32 at 0x7F12CE975890>"
            ]
          },
          "metadata": {
            "tags": []
          }
        },
        {
          "output_type": "stream",
          "text": [
            "was incorrectly classified as  Speed limit (50km/h), while it actually is  Speed limit (80km/h).\n"
          ],
          "name": "stdout"
        },
        {
          "output_type": "display_data",
          "data": {
            "image/png": "[encoded data removed]",
            "text/plain": [
              "<PIL.Image.Image image mode=RGB size=32x32 at 0x7F12CE7A42D0>"
            ]
          },
          "metadata": {
            "tags": []
          }
        },
        {
          "output_type": "stream",
          "text": [
            "was incorrectly classified as  Speed limit (60km/h), while it actually is  No passing.\n"
          ],
          "name": "stdout"
        },
        {
          "output_type": "display_data",
          "data": {
            "image/png": "[encoded data removed]",
            "text/plain": [
              "<PIL.Image.Image image mode=RGB size=32x32 at 0x7F12CE7A4B10>"
            ]
          },
          "metadata": {
            "tags": []
          }
        },
        {
          "output_type": "stream",
          "text": [
            "was incorrectly classified as  Speed limit (80km/h), while it actually is  Ahead only.\n"
          ],
          "name": "stdout"
        }
      ]
    },
    {
      "cell_type": "code",
      "metadata": {
        "id": "a4APhUZqSpqI"
      },
      "source": [
        ""
      ],
      "execution_count": null,
      "outputs": []
    }
  ]
}